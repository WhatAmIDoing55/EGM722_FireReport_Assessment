{
 "cells": [
  {
   "cell_type": "markdown",
   "id": "6c88c66d",
   "metadata": {},
   "source": [
    "# Fire Report NoteBook"
   ]
  },
  {
   "cell_type": "markdown",
   "id": "6d5974c3",
   "metadata": {},
   "source": [
    "This Notebook has been created to test each stage of the Fire Report Pythion Script during development. It will be modified during the project to mirror the script."
   ]
  },
  {
   "cell_type": "markdown",
   "id": "0a0f7c89",
   "metadata": {},
   "source": [
    "Libraries"
   ]
  },
  {
   "cell_type": "code",
   "execution_count": 8,
   "id": "d8c454e4",
   "metadata": {},
   "outputs": [
    {
     "name": "stdout",
     "output_type": "stream",
     "text": [
      "Collecting package metadata (current_repodata.json): ...working... failed\n",
      "\n",
      "Note: you may need to restart the kernel to use updated packages.\n"
     ]
    },
    {
     "name": "stderr",
     "output_type": "stream",
     "text": [
      "WARNING conda.exceptions:print_unexpected_error_report(1251): KeyError('pkgs_dirs')\n",
      "Traceback (most recent call last):\n",
      "  File \"C:\\Users\\Admin\\anaconda3\\lib\\site-packages\\conda\\exceptions.py\", line 1129, in __call__\n",
      "    return func(*args, **kwargs)\n",
      "  File \"C:\\Users\\Admin\\anaconda3\\lib\\site-packages\\conda\\cli\\main.py\", line 86, in main_subshell\n",
      "    exit_code = do_call(args, p)\n",
      "  File \"C:\\Users\\Admin\\anaconda3\\lib\\site-packages\\conda\\cli\\conda_argparse.py\", line 93, in do_call\n",
      "    return getattr(module, func_name)(args, parser)\n",
      "  File \"C:\\Users\\Admin\\anaconda3\\lib\\site-packages\\conda\\notices\\core.py\", line 72, in wrapper\n",
      "    return_value = func(*args, **kwargs)\n",
      "  File \"C:\\Users\\Admin\\anaconda3\\lib\\site-packages\\conda\\cli\\main_install.py\", line 22, in execute\n",
      "    install(args, parser, 'install')\n",
      "  File \"C:\\Users\\Admin\\anaconda3\\lib\\site-packages\\conda\\cli\\install.py\", line 261, in install\n",
      "    unlink_link_transaction = solver.solve_for_transaction(\n",
      "  File \"C:\\Users\\Admin\\anaconda3\\lib\\site-packages\\conda\\core\\solve.py\", line 156, in solve_for_transaction\n",
      "    unlink_precs, link_precs = self.solve_for_diff(update_modifier, deps_modifier,\n",
      "  File \"C:\\Users\\Admin\\anaconda3\\lib\\site-packages\\conda\\core\\solve.py\", line 199, in solve_for_diff\n",
      "    final_precs = self.solve_final_state(update_modifier, deps_modifier, prune, ignore_pinned,\n",
      "  File \"C:\\Users\\Admin\\anaconda3\\lib\\site-packages\\conda\\core\\solve.py\", line 304, in solve_final_state\n",
      "    ssc = self._collect_all_metadata(ssc)\n",
      "  File \"C:\\Users\\Admin\\anaconda3\\lib\\site-packages\\conda\\common\\io.py\", line 86, in decorated\n",
      "    return f(*args, **kwds)\n",
      "  File \"C:\\Users\\Admin\\anaconda3\\lib\\site-packages\\conda\\core\\solve.py\", line 467, in _collect_all_metadata\n",
      "    index, r = self._prepare(prepared_specs)\n",
      "  File \"C:\\Users\\Admin\\anaconda3\\lib\\site-packages\\conda\\core\\solve.py\", line 1061, in _prepare\n",
      "    reduced_index = get_reduced_index(self.prefix, self.channels,\n",
      "  File \"C:\\Users\\Admin\\anaconda3\\lib\\site-packages\\conda\\core\\index.py\", line 301, in get_reduced_index\n",
      "    new_records = SubdirData.query_all(spec, channels=channels, subdirs=subdirs,\n",
      "  File \"C:\\Users\\Admin\\anaconda3\\lib\\site-packages\\conda\\core\\subdir_data.py\", line 115, in query_all\n",
      "    create_cache_dir()\n",
      "  File \"C:\\Users\\Admin\\anaconda3\\lib\\site-packages\\conda\\core\\subdir_data.py\", line 737, in create_cache_dir\n",
      "    cache_dir = join(PackageCacheData.first_writable().pkgs_dir, 'cache')\n",
      "  File \"C:\\Users\\Admin\\anaconda3\\lib\\site-packages\\conda\\core\\package_cache_data.py\", line 158, in first_writable\n",
      "    pkgs_dirs = context.pkgs_dirs\n",
      "  File \"C:\\Users\\Admin\\anaconda3\\lib\\site-packages\\conda\\base\\context.py\", line 555, in pkgs_dirs\n",
      "    fixed_dirs += user_data_dir(APP_NAME, APP_NAME),\n",
      "  File \"C:\\Users\\Admin\\anaconda3\\lib\\site-packages\\conda\\_vendor\\appdirs.py\", line 67, in user_data_dir\n",
      "    path = os.path.join(_get_win_folder(const), appauthor, appname)\n",
      "  File \"C:\\Users\\Admin\\anaconda3\\lib\\site-packages\\conda\\_vendor\\appdirs.py\", line 265, in _get_win_folder_with_pywin32\n",
      "    from win32com.shell import shellcon, shell\n",
      "ImportError: DLL load failed while importing shell: The specified procedure could not be found.\n",
      "\n",
      "During handling of the above exception, another exception occurred:\n",
      "\n",
      "Traceback (most recent call last):\n",
      "  File \"C:\\Users\\Admin\\anaconda3\\lib\\site-packages\\conda\\exceptions.py\", line 1249, in print_unexpected_error_report\n",
      "    message_builder.append(get_main_info_str(error_report['conda_info']))\n",
      "  File \"C:\\Users\\Admin\\anaconda3\\lib\\site-packages\\conda\\cli\\main_info.py\", line 237, in get_main_info_str\n",
      "    info_dict['_' + key] = ('\\n' + 26 * ' ').join(info_dict[key])\n",
      "KeyError: 'pkgs_dirs'\n",
      "\n",
      "# >>>>>>>>>>>>>>>>>>>>>> ERROR REPORT <<<<<<<<<<<<<<<<<<<<<<\n",
      "\n",
      "    Traceback (most recent call last):\n",
      "      File \"C:\\Users\\Admin\\anaconda3\\lib\\site-packages\\conda\\exceptions.py\", line 1129, in __call__\n",
      "        return func(*args, **kwargs)\n",
      "      File \"C:\\Users\\Admin\\anaconda3\\lib\\site-packages\\conda\\cli\\main.py\", line 86, in main_subshell\n",
      "        exit_code = do_call(args, p)\n",
      "      File \"C:\\Users\\Admin\\anaconda3\\lib\\site-packages\\conda\\cli\\conda_argparse.py\", line 93, in do_call\n",
      "        return getattr(module, func_name)(args, parser)\n",
      "      File \"C:\\Users\\Admin\\anaconda3\\lib\\site-packages\\conda\\notices\\core.py\", line 72, in wrapper\n",
      "        return_value = func(*args, **kwargs)\n",
      "      File \"C:\\Users\\Admin\\anaconda3\\lib\\site-packages\\conda\\cli\\main_install.py\", line 22, in execute\n",
      "        install(args, parser, 'install')\n",
      "      File \"C:\\Users\\Admin\\anaconda3\\lib\\site-packages\\conda\\cli\\install.py\", line 261, in install\n",
      "        unlink_link_transaction = solver.solve_for_transaction(\n",
      "      File \"C:\\Users\\Admin\\anaconda3\\lib\\site-packages\\conda\\core\\solve.py\", line 156, in solve_for_transaction\n",
      "        unlink_precs, link_precs = self.solve_for_diff(update_modifier, deps_modifier,\n",
      "      File \"C:\\Users\\Admin\\anaconda3\\lib\\site-packages\\conda\\core\\solve.py\", line 199, in solve_for_diff\n",
      "        final_precs = self.solve_final_state(update_modifier, deps_modifier, prune, ignore_pinned,\n",
      "      File \"C:\\Users\\Admin\\anaconda3\\lib\\site-packages\\conda\\core\\solve.py\", line 304, in solve_final_state\n",
      "        ssc = self._collect_all_metadata(ssc)\n",
      "      File \"C:\\Users\\Admin\\anaconda3\\lib\\site-packages\\conda\\common\\io.py\", line 86, in decorated\n",
      "        return f(*args, **kwds)\n",
      "      File \"C:\\Users\\Admin\\anaconda3\\lib\\site-packages\\conda\\core\\solve.py\", line 467, in _collect_all_metadata\n",
      "        index, r = self._prepare(prepared_specs)\n",
      "      File \"C:\\Users\\Admin\\anaconda3\\lib\\site-packages\\conda\\core\\solve.py\", line 1061, in _prepare\n",
      "        reduced_index = get_reduced_index(self.prefix, self.channels,\n",
      "      File \"C:\\Users\\Admin\\anaconda3\\lib\\site-packages\\conda\\core\\index.py\", line 301, in get_reduced_index\n",
      "        new_records = SubdirData.query_all(spec, channels=channels, subdirs=subdirs,\n",
      "      File \"C:\\Users\\Admin\\anaconda3\\lib\\site-packages\\conda\\core\\subdir_data.py\", line 115, in query_all\n",
      "        create_cache_dir()\n",
      "      File \"C:\\Users\\Admin\\anaconda3\\lib\\site-packages\\conda\\core\\subdir_data.py\", line 737, in create_cache_dir\n",
      "        cache_dir = join(PackageCacheData.first_writable().pkgs_dir, 'cache')\n",
      "      File \"C:\\Users\\Admin\\anaconda3\\lib\\site-packages\\conda\\core\\package_cache_data.py\", line 158, in first_writable\n",
      "        pkgs_dirs = context.pkgs_dirs\n",
      "      File \"C:\\Users\\Admin\\anaconda3\\lib\\site-packages\\conda\\base\\context.py\", line 555, in pkgs_dirs\n",
      "        fixed_dirs += user_data_dir(APP_NAME, APP_NAME),\n",
      "      File \"C:\\Users\\Admin\\anaconda3\\lib\\site-packages\\conda\\_vendor\\appdirs.py\", line 67, in user_data_dir\n",
      "        path = os.path.join(_get_win_folder(const), appauthor, appname)\n",
      "      File \"C:\\Users\\Admin\\anaconda3\\lib\\site-packages\\conda\\_vendor\\appdirs.py\", line 265, in _get_win_folder_with_pywin32\n",
      "        from win32com.shell import shellcon, shell\n",
      "    ImportError: DLL load failed while importing shell: The specified procedure could not be found.\n",
      "\n",
      "`$ C:\\Users\\Admin\\anaconda3\\Scripts\\conda-script.py install --yes --prefix C:\\Users\\Admin\\anaconda3 -c conda-forge geopandas`\n",
      "\n",
      "  environment variables:\n",
      "conda info could not be constructed.\n",
      "KeyError('pkgs_dirs')\n",
      "\n",
      "An unexpected error has occurred. Conda has prepared the above report.\n",
      "\n",
      "Upload successful.\n"
     ]
    }
   ],
   "source": [
    "#conda install -c conda-forge geopandas"
   ]
  },
  {
   "cell_type": "code",
   "execution_count": 1,
   "id": "baac6c08",
   "metadata": {},
   "outputs": [
    {
     "ename": "ModuleNotFoundError",
     "evalue": "No module named 'geopandas'",
     "output_type": "error",
     "traceback": [
      "\u001b[1;31m---------------------------------------------------------------------------\u001b[0m",
      "\u001b[1;31mModuleNotFoundError\u001b[0m                       Traceback (most recent call last)",
      "\u001b[1;32m~\\AppData\\Local\\Temp\\ipykernel_8732\\1355558562.py\u001b[0m in \u001b[0;36m<module>\u001b[1;34m\u001b[0m\n\u001b[0;32m      1\u001b[0m \u001b[1;32mimport\u001b[0m \u001b[0mrequests\u001b[0m\u001b[1;33m\u001b[0m\u001b[1;33m\u001b[0m\u001b[0m\n\u001b[0;32m      2\u001b[0m \u001b[1;32mimport\u001b[0m \u001b[0mpandas\u001b[0m \u001b[1;32mas\u001b[0m \u001b[0mpd\u001b[0m\u001b[1;33m\u001b[0m\u001b[1;33m\u001b[0m\u001b[0m\n\u001b[1;32m----> 3\u001b[1;33m \u001b[1;32mimport\u001b[0m \u001b[0mgeopandas\u001b[0m \u001b[1;32mas\u001b[0m \u001b[0mgpd\u001b[0m\u001b[1;33m\u001b[0m\u001b[1;33m\u001b[0m\u001b[0m\n\u001b[0m\u001b[0;32m      4\u001b[0m \u001b[1;32mimport\u001b[0m \u001b[0mfolium\u001b[0m\u001b[1;33m\u001b[0m\u001b[1;33m\u001b[0m\u001b[0m\n",
      "\u001b[1;31mModuleNotFoundError\u001b[0m: No module named 'geopandas'"
     ]
    }
   ],
   "source": [
    "import requests\n",
    "import pandas as pd\n",
    "import geopandas as gpd\n",
    "import folium\n"
   ]
  },
  {
   "cell_type": "code",
   "execution_count": 4,
   "id": "2c5c65c8",
   "metadata": {},
   "outputs": [],
   "source": [
    "# SUOMI VIIRS - Last 7 days\n",
    "snpp_url = 'https://firms.modaps.eosdis.nasa.gov/data/active_fire/suomi-npp-viirs-c2/csv/SUOMI_VIIRS_C2_Global_7d.csv'"
   ]
  },
  {
   "cell_type": "code",
   "execution_count": 5,
   "id": "4f4dc032",
   "metadata": {},
   "outputs": [],
   "source": [
    "snpp_df = pd.read_csv(snpp_url)"
   ]
  },
  {
   "cell_type": "code",
   "execution_count": 6,
   "id": "717b9232",
   "metadata": {},
   "outputs": [
    {
     "data": {
      "text/html": [
       "<div>\n",
       "<style scoped>\n",
       "    .dataframe tbody tr th:only-of-type {\n",
       "        vertical-align: middle;\n",
       "    }\n",
       "\n",
       "    .dataframe tbody tr th {\n",
       "        vertical-align: top;\n",
       "    }\n",
       "\n",
       "    .dataframe thead th {\n",
       "        text-align: right;\n",
       "    }\n",
       "</style>\n",
       "<table border=\"1\" class=\"dataframe\">\n",
       "  <thead>\n",
       "    <tr style=\"text-align: right;\">\n",
       "      <th></th>\n",
       "      <th>latitude</th>\n",
       "      <th>longitude</th>\n",
       "      <th>bright_ti4</th>\n",
       "      <th>scan</th>\n",
       "      <th>track</th>\n",
       "      <th>acq_date</th>\n",
       "      <th>acq_time</th>\n",
       "      <th>satellite</th>\n",
       "      <th>confidence</th>\n",
       "      <th>version</th>\n",
       "      <th>bright_ti5</th>\n",
       "      <th>frp</th>\n",
       "      <th>daynight</th>\n",
       "    </tr>\n",
       "  </thead>\n",
       "  <tbody>\n",
       "    <tr>\n",
       "      <th>0</th>\n",
       "      <td>-15.79870</td>\n",
       "      <td>13.48609</td>\n",
       "      <td>301.18</td>\n",
       "      <td>0.58</td>\n",
       "      <td>0.52</td>\n",
       "      <td>2023-04-10</td>\n",
       "      <td>56</td>\n",
       "      <td>N</td>\n",
       "      <td>nominal</td>\n",
       "      <td>2.0NRT</td>\n",
       "      <td>266.73</td>\n",
       "      <td>0.17</td>\n",
       "      <td>N</td>\n",
       "    </tr>\n",
       "    <tr>\n",
       "      <th>1</th>\n",
       "      <td>-18.34727</td>\n",
       "      <td>15.34617</td>\n",
       "      <td>301.60</td>\n",
       "      <td>0.42</td>\n",
       "      <td>0.61</td>\n",
       "      <td>2023-04-10</td>\n",
       "      <td>56</td>\n",
       "      <td>N</td>\n",
       "      <td>nominal</td>\n",
       "      <td>2.0NRT</td>\n",
       "      <td>285.20</td>\n",
       "      <td>0.17</td>\n",
       "      <td>N</td>\n",
       "    </tr>\n",
       "    <tr>\n",
       "      <th>2</th>\n",
       "      <td>-20.20595</td>\n",
       "      <td>13.80730</td>\n",
       "      <td>302.57</td>\n",
       "      <td>0.35</td>\n",
       "      <td>0.57</td>\n",
       "      <td>2023-04-10</td>\n",
       "      <td>56</td>\n",
       "      <td>N</td>\n",
       "      <td>nominal</td>\n",
       "      <td>2.0NRT</td>\n",
       "      <td>287.44</td>\n",
       "      <td>0.04</td>\n",
       "      <td>N</td>\n",
       "    </tr>\n",
       "    <tr>\n",
       "      <th>3</th>\n",
       "      <td>-21.61143</td>\n",
       "      <td>17.96475</td>\n",
       "      <td>298.38</td>\n",
       "      <td>0.66</td>\n",
       "      <td>0.73</td>\n",
       "      <td>2023-04-10</td>\n",
       "      <td>56</td>\n",
       "      <td>N</td>\n",
       "      <td>nominal</td>\n",
       "      <td>2.0NRT</td>\n",
       "      <td>266.75</td>\n",
       "      <td>0.34</td>\n",
       "      <td>N</td>\n",
       "    </tr>\n",
       "    <tr>\n",
       "      <th>4</th>\n",
       "      <td>32.28986</td>\n",
       "      <td>10.97540</td>\n",
       "      <td>298.92</td>\n",
       "      <td>0.40</td>\n",
       "      <td>0.44</td>\n",
       "      <td>2023-04-10</td>\n",
       "      <td>41</td>\n",
       "      <td>N</td>\n",
       "      <td>nominal</td>\n",
       "      <td>2.0NRT</td>\n",
       "      <td>281.22</td>\n",
       "      <td>0.54</td>\n",
       "      <td>N</td>\n",
       "    </tr>\n",
       "  </tbody>\n",
       "</table>\n",
       "</div>"
      ],
      "text/plain": [
       "   latitude  longitude  bright_ti4  scan  track    acq_date  acq_time  \\\n",
       "0 -15.79870   13.48609      301.18  0.58   0.52  2023-04-10        56   \n",
       "1 -18.34727   15.34617      301.60  0.42   0.61  2023-04-10        56   \n",
       "2 -20.20595   13.80730      302.57  0.35   0.57  2023-04-10        56   \n",
       "3 -21.61143   17.96475      298.38  0.66   0.73  2023-04-10        56   \n",
       "4  32.28986   10.97540      298.92  0.40   0.44  2023-04-10        41   \n",
       "\n",
       "  satellite confidence version  bright_ti5   frp daynight  \n",
       "0         N    nominal  2.0NRT      266.73  0.17        N  \n",
       "1         N    nominal  2.0NRT      285.20  0.17        N  \n",
       "2         N    nominal  2.0NRT      287.44  0.04        N  \n",
       "3         N    nominal  2.0NRT      266.75  0.34        N  \n",
       "4         N    nominal  2.0NRT      281.22  0.54        N  "
      ]
     },
     "execution_count": 6,
     "metadata": {},
     "output_type": "execute_result"
    }
   ],
   "source": [
    "snpp_df.head()"
   ]
  },
  {
   "cell_type": "code",
   "execution_count": 7,
   "id": "515ee1f1",
   "metadata": {},
   "outputs": [
    {
     "ename": "NameError",
     "evalue": "name 'Point' is not defined",
     "output_type": "error",
     "traceback": [
      "\u001b[1;31m---------------------------------------------------------------------------\u001b[0m",
      "\u001b[1;31mNameError\u001b[0m                                 Traceback (most recent call last)",
      "\u001b[1;32m~\\AppData\\Local\\Temp\\ipykernel_12464\\4170759738.py\u001b[0m in \u001b[0;36m<module>\u001b[1;34m\u001b[0m\n\u001b[0;32m      1\u001b[0m \u001b[0msnpp_df\u001b[0m\u001b[1;33m[\u001b[0m\u001b[1;34m'geometry'\u001b[0m\u001b[1;33m]\u001b[0m \u001b[1;33m=\u001b[0m \u001b[0mlist\u001b[0m\u001b[1;33m(\u001b[0m\u001b[0mzip\u001b[0m\u001b[1;33m(\u001b[0m\u001b[0msnpp_df\u001b[0m\u001b[1;33m[\u001b[0m\u001b[1;34m'longitude'\u001b[0m\u001b[1;33m]\u001b[0m\u001b[1;33m,\u001b[0m \u001b[0msnpp_df\u001b[0m\u001b[1;33m[\u001b[0m\u001b[1;34m'latitude'\u001b[0m\u001b[1;33m]\u001b[0m\u001b[1;33m)\u001b[0m\u001b[1;33m)\u001b[0m \u001b[1;31m# zip is an iterator, so we use list to create\u001b[0m\u001b[1;33m\u001b[0m\u001b[1;33m\u001b[0m\u001b[0m\n\u001b[0;32m      2\u001b[0m                                                  \u001b[1;31m# something that pandas can use.\u001b[0m\u001b[1;33m\u001b[0m\u001b[1;33m\u001b[0m\u001b[0m\n\u001b[1;32m----> 3\u001b[1;33m \u001b[0msnpp_df\u001b[0m\u001b[1;33m[\u001b[0m\u001b[1;34m'geometry'\u001b[0m\u001b[1;33m]\u001b[0m \u001b[1;33m=\u001b[0m \u001b[0msnpp_df\u001b[0m\u001b[1;33m[\u001b[0m\u001b[1;34m'geometry'\u001b[0m\u001b[1;33m]\u001b[0m\u001b[1;33m.\u001b[0m\u001b[0mapply\u001b[0m\u001b[1;33m(\u001b[0m\u001b[0mPoint\u001b[0m\u001b[1;33m)\u001b[0m \u001b[1;31m# using the 'apply' method of the dataframe,\u001b[0m\u001b[1;33m\u001b[0m\u001b[1;33m\u001b[0m\u001b[0m\n\u001b[0m\u001b[0;32m      4\u001b[0m                                              \u001b[1;31m# turn the coordinates column\u001b[0m\u001b[1;33m\u001b[0m\u001b[1;33m\u001b[0m\u001b[0m\n\u001b[0;32m      5\u001b[0m                                              \u001b[1;31m# into points (instead of a tuple of lat, lon coordinates).\u001b[0m\u001b[1;33m\u001b[0m\u001b[1;33m\u001b[0m\u001b[0m\n",
      "\u001b[1;31mNameError\u001b[0m: name 'Point' is not defined"
     ]
    }
   ],
   "source": [
    "\n",
    "snpp_df['geometry'] = list(zip(snpp_df['longitude'], snpp_df['latitude'])) # zip is an iterator, so we use list to create\n",
    "                                                 # something that pandas can use.\n",
    "snpp_df['geometry'] = snpp_df['geometry'].apply(Point) # using the 'apply' method of the dataframe,\n",
    "                                             # turn the coordinates column\n",
    "                                             # into points (instead of a tuple of lat, lon coordinates).\n",
    "                                             # NB: Point takes (x, y) coordinates\n",
    "gdf = gpd.GeoDataFrame(snpp_dff)\n",
    "gdf.set_crs(\"EPSG:4326\", inplace=True) # this sets the coordinate reference system to epsg:4326, wgs84 lat/lon"
   ]
  },
  {
   "cell_type": "code",
   "execution_count": null,
   "id": "5c8ea51b",
   "metadata": {},
   "outputs": [],
   "source": []
  }
 ],
 "metadata": {
  "kernelspec": {
   "display_name": "Python 3 (ipykernel)",
   "language": "python",
   "name": "python3"
  },
  "language_info": {
   "codemirror_mode": {
    "name": "ipython",
    "version": 3
   },
   "file_extension": ".py",
   "mimetype": "text/x-python",
   "name": "python",
   "nbconvert_exporter": "python",
   "pygments_lexer": "ipython3",
   "version": "3.9.13"
  }
 },
 "nbformat": 4,
 "nbformat_minor": 5
}
