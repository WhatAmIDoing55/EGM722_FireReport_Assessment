{
 "cells": [
  {
   "cell_type": "markdown",
   "id": "6c88c66d",
   "metadata": {},
   "source": [
    "# Fire Report NoteBook"
   ]
  },
  {
   "cell_type": "markdown",
   "id": "6d5974c3",
   "metadata": {},
   "source": [
    "This Notebook has been created to test each stage of the Fire Report Pythion Script during development. It will be modified during the project to mirror the script."
   ]
  },
  {
   "cell_type": "code",
   "execution_count": null,
   "id": "81e5c49e",
   "metadata": {},
   "outputs": [],
   "source": [
    "Libraries"
   ]
  },
  {
   "cell_type": "code",
   "execution_count": 1,
   "id": "baac6c08",
   "metadata": {},
   "outputs": [],
   "source": [
    "import requests\n",
    "import pandas as pd\n"
   ]
  },
  {
   "cell_type": "code",
   "execution_count": 2,
   "id": "2c5c65c8",
   "metadata": {},
   "outputs": [],
   "source": [
    "# SUOMI VIIRS - Last 7 days\n",
    "snpp_url = 'https://firms.modaps.eosdis.nasa.gov/data/active_fire/suomi-npp-viirs-c2/csv/SUOMI_VIIRS_C2_Global_7d.csv'"
   ]
  },
  {
   "cell_type": "code",
   "execution_count": 3,
   "id": "4f4dc032",
   "metadata": {},
   "outputs": [],
   "source": [
    "snpp_df = pd.read_csv(snpp_url)"
   ]
  },
  {
   "cell_type": "code",
   "execution_count": 4,
   "id": "717b9232",
   "metadata": {},
   "outputs": [
    {
     "data": {
      "text/html": [
       "<div>\n",
       "<style scoped>\n",
       "    .dataframe tbody tr th:only-of-type {\n",
       "        vertical-align: middle;\n",
       "    }\n",
       "\n",
       "    .dataframe tbody tr th {\n",
       "        vertical-align: top;\n",
       "    }\n",
       "\n",
       "    .dataframe thead th {\n",
       "        text-align: right;\n",
       "    }\n",
       "</style>\n",
       "<table border=\"1\" class=\"dataframe\">\n",
       "  <thead>\n",
       "    <tr style=\"text-align: right;\">\n",
       "      <th></th>\n",
       "      <th>latitude</th>\n",
       "      <th>longitude</th>\n",
       "      <th>bright_ti4</th>\n",
       "      <th>scan</th>\n",
       "      <th>track</th>\n",
       "      <th>acq_date</th>\n",
       "      <th>acq_time</th>\n",
       "      <th>satellite</th>\n",
       "      <th>confidence</th>\n",
       "      <th>version</th>\n",
       "      <th>bright_ti5</th>\n",
       "      <th>frp</th>\n",
       "      <th>daynight</th>\n",
       "    </tr>\n",
       "  </thead>\n",
       "  <tbody>\n",
       "    <tr>\n",
       "      <th>0</th>\n",
       "      <td>36.18110</td>\n",
       "      <td>3.74619</td>\n",
       "      <td>308.41</td>\n",
       "      <td>0.60</td>\n",
       "      <td>0.53</td>\n",
       "      <td>2023-04-09</td>\n",
       "      <td>100</td>\n",
       "      <td>N</td>\n",
       "      <td>nominal</td>\n",
       "      <td>2.0NRT</td>\n",
       "      <td>279.30</td>\n",
       "      <td>2.04</td>\n",
       "      <td>N</td>\n",
       "    </tr>\n",
       "    <tr>\n",
       "      <th>1</th>\n",
       "      <td>36.12600</td>\n",
       "      <td>1.23801</td>\n",
       "      <td>305.25</td>\n",
       "      <td>0.42</td>\n",
       "      <td>0.61</td>\n",
       "      <td>2023-04-09</td>\n",
       "      <td>100</td>\n",
       "      <td>N</td>\n",
       "      <td>nominal</td>\n",
       "      <td>2.0NRT</td>\n",
       "      <td>284.76</td>\n",
       "      <td>1.69</td>\n",
       "      <td>N</td>\n",
       "    </tr>\n",
       "    <tr>\n",
       "      <th>2</th>\n",
       "      <td>35.88173</td>\n",
       "      <td>4.44382</td>\n",
       "      <td>301.14</td>\n",
       "      <td>0.55</td>\n",
       "      <td>0.51</td>\n",
       "      <td>2023-04-09</td>\n",
       "      <td>100</td>\n",
       "      <td>N</td>\n",
       "      <td>nominal</td>\n",
       "      <td>2.0NRT</td>\n",
       "      <td>283.53</td>\n",
       "      <td>0.96</td>\n",
       "      <td>N</td>\n",
       "    </tr>\n",
       "    <tr>\n",
       "      <th>3</th>\n",
       "      <td>35.87701</td>\n",
       "      <td>4.44305</td>\n",
       "      <td>296.32</td>\n",
       "      <td>0.55</td>\n",
       "      <td>0.51</td>\n",
       "      <td>2023-04-09</td>\n",
       "      <td>100</td>\n",
       "      <td>N</td>\n",
       "      <td>nominal</td>\n",
       "      <td>2.0NRT</td>\n",
       "      <td>282.47</td>\n",
       "      <td>0.96</td>\n",
       "      <td>N</td>\n",
       "    </tr>\n",
       "    <tr>\n",
       "      <th>4</th>\n",
       "      <td>35.88085</td>\n",
       "      <td>4.44309</td>\n",
       "      <td>298.76</td>\n",
       "      <td>0.55</td>\n",
       "      <td>0.51</td>\n",
       "      <td>2023-04-09</td>\n",
       "      <td>100</td>\n",
       "      <td>N</td>\n",
       "      <td>nominal</td>\n",
       "      <td>2.0NRT</td>\n",
       "      <td>283.00</td>\n",
       "      <td>1.49</td>\n",
       "      <td>N</td>\n",
       "    </tr>\n",
       "  </tbody>\n",
       "</table>\n",
       "</div>"
      ],
      "text/plain": [
       "   latitude  longitude  bright_ti4  scan  track    acq_date  acq_time  \\\n",
       "0  36.18110    3.74619      308.41  0.60   0.53  2023-04-09       100   \n",
       "1  36.12600    1.23801      305.25  0.42   0.61  2023-04-09       100   \n",
       "2  35.88173    4.44382      301.14  0.55   0.51  2023-04-09       100   \n",
       "3  35.87701    4.44305      296.32  0.55   0.51  2023-04-09       100   \n",
       "4  35.88085    4.44309      298.76  0.55   0.51  2023-04-09       100   \n",
       "\n",
       "  satellite confidence version  bright_ti5   frp daynight  \n",
       "0         N    nominal  2.0NRT      279.30  2.04        N  \n",
       "1         N    nominal  2.0NRT      284.76  1.69        N  \n",
       "2         N    nominal  2.0NRT      283.53  0.96        N  \n",
       "3         N    nominal  2.0NRT      282.47  0.96        N  \n",
       "4         N    nominal  2.0NRT      283.00  1.49        N  "
      ]
     },
     "execution_count": 4,
     "metadata": {},
     "output_type": "execute_result"
    }
   ],
   "source": [
    "snpp_df.head()"
   ]
  },
  {
   "cell_type": "code",
   "execution_count": null,
   "id": "515ee1f1",
   "metadata": {},
   "outputs": [],
   "source": []
  }
 ],
 "metadata": {
  "kernelspec": {
   "display_name": "Python 3 (ipykernel)",
   "language": "python",
   "name": "python3"
  },
  "language_info": {
   "codemirror_mode": {
    "name": "ipython",
    "version": 3
   },
   "file_extension": ".py",
   "mimetype": "text/x-python",
   "name": "python",
   "nbconvert_exporter": "python",
   "pygments_lexer": "ipython3",
   "version": "3.9.13"
  }
 },
 "nbformat": 4,
 "nbformat_minor": 5
}
